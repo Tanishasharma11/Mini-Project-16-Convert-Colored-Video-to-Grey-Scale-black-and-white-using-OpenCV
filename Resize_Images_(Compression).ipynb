{
  "nbformat": 4,
  "nbformat_minor": 0,
  "metadata": {
    "colab": {
      "provenance": [],
      "include_colab_link": true
    },
    "kernelspec": {
      "name": "python3",
      "display_name": "Python 3"
    },
    "language_info": {
      "name": "python"
    }
  },
  "cells": [
    {
      "cell_type": "markdown",
      "metadata": {
        "id": "view-in-github",
        "colab_type": "text"
      },
      "source": [
        "<a href=\"https://colab.research.google.com/github/Tanishasharma11/Mini-Project-16-Resize-the-100-images-to-50-smaller-using-OpenCV/blob/main/Resize_Images_(Compression).ipynb\" target=\"_parent\"><img src=\"https://colab.research.google.com/assets/colab-badge.svg\" alt=\"Open In Colab\"/></a>"
      ]
    },
    {
      "cell_type": "code",
      "source": [
        "import zipfile\n",
        "\n",
        "# Path to the uploaded ZIP file\n",
        "zip_path = '/content/Pictures.zip'\n",
        "\n"
      ],
      "metadata": {
        "id": "_wyr-4QKSM-H"
      },
      "execution_count": 2,
      "outputs": []
    },
    {
      "cell_type": "code",
      "source": [
        "import zipfile\n",
        "import os\n",
        "\n",
        "# Destination path for extraction\n",
        "extract_path = '/content/folder'\n",
        "\n",
        "# Create the destination directory if it doesn't exist\n",
        "os.makedirs(extract_path, exist_ok=True)\n",
        "\n",
        "\n",
        "# Extract the contents of the ZIP file\n",
        "try:\n",
        "    with zipfile.ZipFile(zip_path, 'r') as zip_ref:\n",
        "        zip_ref.extractall(extract_path)\n",
        "except zipfile.BadZipFile as e:\n",
        "    print(f\"Error: {e}. Unable to extract the ZIP file.\")\n",
        "\n"
      ],
      "metadata": {
        "colab": {
          "base_uri": "https://localhost:8080/"
        },
        "id": "u5JNwnqQU3yx",
        "outputId": "07c4ee39-9ebc-47d5-c90b-fd88c9db51a0"
      },
      "execution_count": 8,
      "outputs": [
        {
          "output_type": "stream",
          "name": "stdout",
          "text": [
            "Error: File is not a zip file. Unable to extract the ZIP file.\n"
          ]
        }
      ]
    },
    {
      "cell_type": "code",
      "source": [
        "import cv2\n",
        "import os\n",
        "\n",
        "# Path to the input folder containing colored images\n",
        "input_folder = '/content/folder'\n",
        "\n",
        "# Path to the output folder to save the grayscale images\n",
        "output_folder = '/content/compressed_images'\n",
        "os.makedirs(output_folder, exist_ok=True)\n",
        "\n",
        "# Get the list of image files in the input folder\n",
        "image_files = [file for file in os.listdir(input_folder) if file.endswith('.jpg') or file.endswith('.png')]\n",
        "\n",
        "# Process each image file\n",
        "for image_file in image_files:\n",
        "    # Read the image\n",
        "    image_path = os.path.join(input_folder, image_file)\n",
        "    image = cv2.imread(image_path)\n",
        "\n",
        "    # Convert the image to grayscale\n",
        "    gray_image = cv2.cvtColor(image, cv2.COLOR_BGR2GRAY)\n",
        "\n",
        "    # Save the grayscale image\n",
        "    output_path = os.path.join(output_folder, image_file)\n",
        "    cv2.imwrite(output_path, gray_image)\n",
        "\n",
        "\n"
      ],
      "metadata": {
        "id": "xbfhy-OSS6j8"
      },
      "execution_count": 10,
      "outputs": []
    },
    {
      "cell_type": "code",
      "source": [
        "import cv2\n",
        "import os\n",
        "\n",
        "# Path to the input folder containing grayscale images\n",
        "input_folder = '/content/compressed_images'\n",
        "\n",
        "# Path to the output folder to save the compressed images\n",
        "output_folder = '/content/compressed_images'\n",
        "os.makedirs(output_folder, exist_ok=True)\n",
        "\n",
        "# Get the list of image files in the input folder\n",
        "image_files = [file for file in os.listdir(input_folder) if file.endswith('.jpg') or file.endswith('.png')]\n",
        "\n",
        "# Process each image file\n",
        "for image_file in image_files:\n",
        "    # Read the image\n",
        "    image_path = os.path.join(input_folder, image_file)\n",
        "    image = cv2.imread(image_path)\n",
        "\n",
        "    # Get the original width and height\n",
        "    height, width = image.shape[:2]\n",
        "\n",
        "    # Calculate the new width and height for compression\n",
        "    new_width = int(width * 0.5)\n",
        "    new_height = int(height * 0.5)\n",
        "\n",
        "    # Resize the image for compression\n",
        "    compressed_image = cv2.resize(image, (new_width, new_height))\n",
        "\n",
        "    # Save the compressed image\n",
        "    output_path = os.path.join(output_folder, image_file)\n",
        "    cv2.imwrite(output_path, compressed_image)\n",
        "\n",
        "\n"
      ],
      "metadata": {
        "id": "AzCGcSlWBUv_"
      },
      "execution_count": 11,
      "outputs": []
    }
  ]
}